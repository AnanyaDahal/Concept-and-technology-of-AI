{
  "nbformat": 4,
  "nbformat_minor": 0,
  "metadata": {
    "colab": {
      "provenance": []
    },
    "kernelspec": {
      "name": "python3",
      "display_name": "Python 3"
    },
    "language_info": {
      "name": "python"
    }
  },
  "cells": [
    {
      "cell_type": "code",
      "source": [
        "import numpy as np\n",
        "a = np.array([1,2,3,4])\n",
        "a, a.dtype\n",
        "#a.shape"
      ],
      "metadata": {
        "colab": {
          "base_uri": "https://localhost:8080/"
        },
        "id": "Xh6zlGZVLg5V",
        "outputId": "cce1c2b6-a5e5-40fb-f9c6-90e74ba3fb4e"
      },
      "execution_count": null,
      "outputs": [
        {
          "output_type": "execute_result",
          "data": {
            "text/plain": [
              "(array([1, 2, 3, 4]), dtype('int64'))"
            ]
          },
          "metadata": {},
          "execution_count": 6
        }
      ]
    },
    {
      "cell_type": "code",
      "source": [
        "import numpy as np\n",
        "a = np.array([[1,2,3,4],[4,4,6,9]])\n",
        "a.ndim, a.shape"
      ],
      "metadata": {
        "colab": {
          "base_uri": "https://localhost:8080/"
        },
        "id": "eQ7dcjRELmFf",
        "outputId": "c986b440-a031-46b5-9af2-51ff5a65cb92"
      },
      "execution_count": null,
      "outputs": [
        {
          "output_type": "execute_result",
          "data": {
            "text/plain": [
              "(2, (2, 4))"
            ]
          },
          "metadata": {},
          "execution_count": 5
        }
      ]
    },
    {
      "cell_type": "code",
      "source": [
        "import numpy as np\n",
        "b = np.arange(9).reshape(3,3)\n",
        "b"
      ],
      "metadata": {
        "colab": {
          "base_uri": "https://localhost:8080/"
        },
        "id": "53xPn5s-MXM-",
        "outputId": "d98a110b-45ec-4053-aa05-63c1b6743cdb"
      },
      "execution_count": null,
      "outputs": [
        {
          "output_type": "execute_result",
          "data": {
            "text/plain": [
              "array([[0, 1, 2],\n",
              "       [3, 4, 5],\n",
              "       [6, 7, 8]])"
            ]
          },
          "metadata": {},
          "execution_count": 8
        }
      ]
    },
    {
      "cell_type": "code",
      "source": [
        "# a= np.zeros((3,4))\n",
        "# a\n",
        "# b= np.ones((3,4))\n",
        "# b\n",
        "a=np.random.randint(0,10,(2,3))\n",
        "a"
      ],
      "metadata": {
        "colab": {
          "base_uri": "https://localhost:8080/"
        },
        "id": "RwNOdOAvM5cZ",
        "outputId": "575385e3-9b85-45a8-815a-979ac9c08834"
      },
      "execution_count": null,
      "outputs": [
        {
          "output_type": "execute_result",
          "data": {
            "text/plain": [
              "array([[5, 5, 1],\n",
              "       [9, 7, 3]])"
            ]
          },
          "metadata": {},
          "execution_count": 13
        }
      ]
    },
    {
      "cell_type": "code",
      "source": [
        "c=np.array([[3,4,5,6],[4,5,6,8]])"
      ],
      "metadata": {
        "colab": {
          "base_uri": "https://localhost:8080/"
        },
        "id": "HB29NcNwPEiB",
        "outputId": "a4f02673-ec65-44ed-ae5f-4378170af794"
      },
      "execution_count": null,
      "outputs": [
        {
          "output_type": "execute_result",
          "data": {
            "text/plain": [
              "array([[3, 4, 5, 6],\n",
              "       [4, 5, 6, 8]])"
            ]
          },
          "metadata": {},
          "execution_count": 14
        }
      ]
    },
    {
      "cell_type": "code",
      "source": [
        "d=np.array([[5,6,9,9],[3,7,5,9]])\n",
        "d"
      ],
      "metadata": {
        "colab": {
          "base_uri": "https://localhost:8080/"
        },
        "id": "zoLRt0CCRGeV",
        "outputId": "b2108f9e-6ee7-49b6-98ed-8c9084427b00"
      },
      "execution_count": null,
      "outputs": [
        {
          "output_type": "execute_result",
          "data": {
            "text/plain": [
              "array([[5, 6, 9, 9],\n",
              "       [3, 7, 5, 9]])"
            ]
          },
          "metadata": {},
          "execution_count": 15
        }
      ]
    },
    {
      "cell_type": "code",
      "source": [
        "e=np.concatenate((c,d),axis=1)\n",
        "e"
      ],
      "metadata": {
        "colab": {
          "base_uri": "https://localhost:8080/"
        },
        "id": "qxnIkRJrRWCr",
        "outputId": "aa7cdb93-1c8a-44cd-f2c3-a6b85412b9a4"
      },
      "execution_count": null,
      "outputs": [
        {
          "output_type": "execute_result",
          "data": {
            "text/plain": [
              "array([[3, 4, 5, 6, 5, 6, 9, 9],\n",
              "       [4, 5, 6, 8, 3, 7, 5, 9]])"
            ]
          },
          "metadata": {},
          "execution_count": 16
        }
      ]
    },
    {
      "cell_type": "code",
      "source": [
        "f=np.stack((c,d), axis=1)\n",
        "f"
      ],
      "metadata": {
        "colab": {
          "base_uri": "https://localhost:8080/"
        },
        "id": "S2JuT0IQRjzK",
        "outputId": "c0ee7ea7-1aa0-4580-ce52-1ff83d086eed"
      },
      "execution_count": null,
      "outputs": [
        {
          "output_type": "execute_result",
          "data": {
            "text/plain": [
              "array([[[3, 4, 5, 6],\n",
              "        [5, 6, 9, 9]],\n",
              "\n",
              "       [[4, 5, 6, 8],\n",
              "        [3, 7, 5, 9]]])"
            ]
          },
          "metadata": {},
          "execution_count": 18
        }
      ]
    },
    {
      "cell_type": "code",
      "source": [
        "f=np.hstack((c,d))\n",
        "f"
      ],
      "metadata": {
        "colab": {
          "base_uri": "https://localhost:8080/"
        },
        "id": "ynxtHVG_Ru27",
        "outputId": "7c49dbb3-aa4c-484c-84ba-e651ed30aa47"
      },
      "execution_count": null,
      "outputs": [
        {
          "output_type": "execute_result",
          "data": {
            "text/plain": [
              "array([[3, 4, 5, 6, 5, 6, 9, 9],\n",
              "       [4, 5, 6, 8, 3, 7, 5, 9]])"
            ]
          },
          "metadata": {},
          "execution_count": 20
        }
      ]
    },
    {
      "cell_type": "code",
      "source": [
        "f=np.vstack((c,d))\n",
        "f"
      ],
      "metadata": {
        "colab": {
          "base_uri": "https://localhost:8080/"
        },
        "id": "YvxhcRW3SJja",
        "outputId": "6fe4f758-d27f-4660-a94e-c313275c889c"
      },
      "execution_count": null,
      "outputs": [
        {
          "output_type": "execute_result",
          "data": {
            "text/plain": [
              "array([[3, 4, 5, 6],\n",
              "       [4, 5, 6, 8],\n",
              "       [5, 6, 9, 9],\n",
              "       [3, 7, 5, 9]])"
            ]
          },
          "metadata": {},
          "execution_count": 22
        }
      ]
    },
    {
      "cell_type": "code",
      "source": [
        "import numpy as np\n",
        "# Create and display zero, one, and n-dimensional arrays\n",
        "zero_dim_array = np.array(5)\n",
        "one_dim_array = np.array([1, 2, 3])\n",
        "n_dim_array = np.array([[1, 2], [3, 4]])\n",
        "for arr in [zero_dim_array, one_dim_array, n_dim_array]:\n",
        " print(f\"Array:\\n{arr}\\nDimension: {arr.ndim}\\nData type: {arr.dtype}\\n\")\n"
      ],
      "metadata": {
        "colab": {
          "base_uri": "https://localhost:8080/"
        },
        "id": "z-23EkuaSPaL",
        "outputId": "3da48d1b-8792-469f-ceea-c675834cbdfb"
      },
      "execution_count": null,
      "outputs": [
        {
          "output_type": "stream",
          "name": "stdout",
          "text": [
            "Array:\n",
            "5\n",
            "Dimension: 0\n",
            "Data type: int64\n",
            "\n",
            "Array:\n",
            "[1 2 3]\n",
            "Dimension: 1\n",
            "Data type: int64\n",
            "\n",
            "Array:\n",
            "[[1 2]\n",
            " [3 4]]\n",
            "Dimension: 2\n",
            "Data type: int64\n",
            "\n"
          ]
        }
      ]
    },
    {
      "cell_type": "code",
      "source": [
        "import numpy as np\n",
        "# Create arrays of different dimensions\n",
        "array_0d = np.array(5)\n",
        "array_1d = np.array([1, 2, 3, 4, 5])\n",
        "array_2d = np.array([[1, 2, 3], [4, 5, 6]])\n",
        "array_3d = np.array([[[1, 2], [3, 4]], [[5, 6], [7, 8]]])\n",
        "# Print arrays with shapes\n",
        "for i, arr in enumerate([array_0d, array_1d, array_2d, array_3d]):\n",
        " print(f\"{i}D Array:\\n{arr}\\nShape: {arr.shape}\\n\")\n"
      ],
      "metadata": {
        "colab": {
          "base_uri": "https://localhost:8080/"
        },
        "id": "5fk_cfWsVCEJ",
        "outputId": "c75efb75-59f3-49bd-d1bd-09f180de9ec8"
      },
      "execution_count": null,
      "outputs": [
        {
          "output_type": "stream",
          "name": "stdout",
          "text": [
            "0D Array:\n",
            "5\n",
            "Shape: ()\n",
            "\n",
            "1D Array:\n",
            "[1 2 3 4 5]\n",
            "Shape: (5,)\n",
            "\n",
            "2D Array:\n",
            "[[1 2 3]\n",
            " [4 5 6]]\n",
            "Shape: (2, 3)\n",
            "\n",
            "3D Array:\n",
            "[[[1 2]\n",
            "  [3 4]]\n",
            "\n",
            " [[5 6]\n",
            "  [7 8]]]\n",
            "Shape: (2, 2, 2)\n",
            "\n"
          ]
        }
      ]
    },
    {
      "cell_type": "code",
      "source": [
        "import numpy as np\n",
        "array = np.array([[1, 2, 3], [4, 5, 6]]) # Shape (2, 3)\n",
        "reshaped_array = array.reshape(3, 2) # Reshape to (3, 2), keeping 6 elements\n",
        "print(\"Original Shape:\", array.shape, \"\\nReshaped Shape:\", reshaped_array.shape)"
      ],
      "metadata": {
        "colab": {
          "base_uri": "https://localhost:8080/"
        },
        "id": "YTSjkz8YVG1c",
        "outputId": "8bbfd0bf-66c6-49de-da2c-3c1d8963bf24"
      },
      "execution_count": null,
      "outputs": [
        {
          "output_type": "stream",
          "name": "stdout",
          "text": [
            "Original Shape: (2, 3) \n",
            "Reshaped Shape: (3, 2)\n"
          ]
        }
      ]
    },
    {
      "cell_type": "code",
      "source": [
        "import numpy as np\n",
        "a = np.arange(1, 10)\n",
        "print(a)\n",
        "x = range(1, 10)\n",
        "print(x) # x is an iterator\n",
        "print(list(x))\n",
        "# further arange examples:\n",
        "x = np.arange(10.4)\n",
        "print(x)\n",
        "x = np.arange(0.5, 10.4, 0.8)\n",
        "print(x)"
      ],
      "metadata": {
        "colab": {
          "base_uri": "https://localhost:8080/"
        },
        "id": "jpLhCzStVQzY",
        "outputId": "0e50e8e9-cac7-490c-dba9-dc3dd044078d"
      },
      "execution_count": null,
      "outputs": [
        {
          "output_type": "stream",
          "name": "stdout",
          "text": [
            "[1 2 3 4 5 6 7 8 9]\n",
            "range(1, 10)\n",
            "[1, 2, 3, 4, 5, 6, 7, 8, 9]\n",
            "[ 0.  1.  2.  3.  4.  5.  6.  7.  8.  9. 10.]\n",
            "[ 0.5  1.3  2.1  2.9  3.7  4.5  5.3  6.1  6.9  7.7  8.5  9.3 10.1]\n"
          ]
        }
      ]
    },
    {
      "cell_type": "code",
      "source": [
        "#Task-to-do:-\n",
        "# 4.1) Problem 1\n",
        "#1) empty array with 2*2\n",
        "import numpy as np\n",
        "array = np.empty((2,2 ))\n",
        "print(array)"
      ],
      "metadata": {
        "colab": {
          "base_uri": "https://localhost:8080/"
        },
        "id": "hEi-052aViHq",
        "outputId": "8ba12cc6-509f-4bf2-d391-db5606e6e588"
      },
      "execution_count": null,
      "outputs": [
        {
          "output_type": "stream",
          "name": "stdout",
          "text": [
            "[[1. 1.]\n",
            " [1. 1.]]\n"
          ]
        }
      ]
    },
    {
      "cell_type": "code",
      "source": [
        "#2) one array with size 4*2\n",
        "import numpy as np\n",
        "b = np.arange(8).reshape(4,2)\n",
        "b"
      ],
      "metadata": {
        "colab": {
          "base_uri": "https://localhost:8080/"
        },
        "id": "d0W7YpAjXmN2",
        "outputId": "3e68fca4-f0da-478b-ddb1-c91adae96cfc"
      },
      "execution_count": null,
      "outputs": [
        {
          "output_type": "execute_result",
          "data": {
            "text/plain": [
              "array([[0, 1],\n",
              "       [2, 3],\n",
              "       [4, 5],\n",
              "       [6, 7]])"
            ]
          },
          "metadata": {},
          "execution_count": 29
        }
      ]
    },
    {
      "cell_type": "code",
      "source": [
        "#3)\n",
        "array = np.full((2,4), fill_value=1)\n",
        "array"
      ],
      "metadata": {
        "colab": {
          "base_uri": "https://localhost:8080/"
        },
        "id": "QZYX2MoQYZVC",
        "outputId": "2611520e-8685-4411-91ca-e0389a703eca"
      },
      "execution_count": null,
      "outputs": [
        {
          "output_type": "execute_result",
          "data": {
            "text/plain": [
              "array([[1, 1, 1, 1],\n",
              "       [1, 1, 1, 1]])"
            ]
          },
          "metadata": {},
          "execution_count": 39
        }
      ]
    },
    {
      "cell_type": "code",
      "source": [
        "#4)\n",
        "array= np.zeros_like((2,2))\n",
        "array"
      ],
      "metadata": {
        "colab": {
          "base_uri": "https://localhost:8080/"
        },
        "id": "_Kx5p4UcajGr",
        "outputId": "724e568b-ba16-473d-aea7-92d798500cc4"
      },
      "execution_count": null,
      "outputs": [
        {
          "output_type": "execute_result",
          "data": {
            "text/plain": [
              "array([], dtype=float64)"
            ]
          },
          "metadata": {},
          "execution_count": 44
        }
      ]
    },
    {
      "cell_type": "code",
      "source": [
        "#5)\n",
        "array=np.ones_like(())\n",
        "array"
      ],
      "metadata": {
        "colab": {
          "base_uri": "https://localhost:8080/"
        },
        "id": "ZY-qQ2wjbPlL",
        "outputId": "6aa653f9-17f7-4bfb-f086-5816eda1e23a"
      },
      "execution_count": null,
      "outputs": [
        {
          "output_type": "execute_result",
          "data": {
            "text/plain": [
              "array([], dtype=float64)"
            ]
          },
          "metadata": {},
          "execution_count": 43
        }
      ]
    },
    {
      "cell_type": "code",
      "source": [
        "#6)\n",
        "new_list = [1,2,3,4]\n",
        "array= np.array((new_list))\n",
        "array"
      ],
      "metadata": {
        "colab": {
          "base_uri": "https://localhost:8080/"
        },
        "id": "skaBhiYnbgYd",
        "outputId": "45bbb1c4-755a-43cb-cde8-805ef6b2845e"
      },
      "execution_count": null,
      "outputs": [
        {
          "output_type": "execute_result",
          "data": {
            "text/plain": [
              "array([1, 2, 3, 4])"
            ]
          },
          "metadata": {},
          "execution_count": 46
        }
      ]
    },
    {
      "cell_type": "code",
      "source": [
        "#4.1.1) problem 2\n",
        "#1)\n",
        "a = np.arange(10,49)\n",
        "a"
      ],
      "metadata": {
        "colab": {
          "base_uri": "https://localhost:8080/"
        },
        "id": "TRgkKMa3cOq_",
        "outputId": "6f0fa1cd-fbcb-4903-b8e0-ebca14ee3c50"
      },
      "execution_count": null,
      "outputs": [
        {
          "output_type": "execute_result",
          "data": {
            "text/plain": [
              "array([10, 11, 12, 13, 14, 15, 16, 17, 18, 19, 20, 21, 22, 23, 24, 25, 26,\n",
              "       27, 28, 29, 30, 31, 32, 33, 34, 35, 36, 37, 38, 39, 40, 41, 42, 43,\n",
              "       44, 45, 46, 47, 48])"
            ]
          },
          "metadata": {},
          "execution_count": 58
        }
      ]
    },
    {
      "cell_type": "code",
      "source": [
        "#2)\n",
        "import numpy as np\n",
        "b = np.arange(9).reshape(3,3)\n",
        "b"
      ],
      "metadata": {
        "colab": {
          "base_uri": "https://localhost:8080/"
        },
        "id": "RO--oItHctng",
        "outputId": "d604f32d-8e8e-433c-d071-197b6f39cb42"
      },
      "execution_count": null,
      "outputs": [
        {
          "output_type": "execute_result",
          "data": {
            "text/plain": [
              "array([[0, 1, 2],\n",
              "       [3, 4, 5],\n",
              "       [6, 7, 8]])"
            ]
          },
          "metadata": {},
          "execution_count": 60
        }
      ]
    },
    {
      "cell_type": "code",
      "source": [
        "#3)\n",
        "a = np.eye(3,3)\n",
        "a"
      ],
      "metadata": {
        "colab": {
          "base_uri": "https://localhost:8080/"
        },
        "id": "z9CdrpQzd2y-",
        "outputId": "b2c2eeb5-6c5d-40ab-a936-143c6c8c9867"
      },
      "execution_count": null,
      "outputs": [
        {
          "output_type": "execute_result",
          "data": {
            "text/plain": [
              "array([[1., 0., 0.],\n",
              "       [0., 1., 0.],\n",
              "       [0., 0., 1.]])"
            ]
          },
          "metadata": {},
          "execution_count": 64
        }
      ]
    },
    {
      "cell_type": "code",
      "source": [
        "#4)\n",
        "b=np.random.random(30), array.mean()\n",
        "b"
      ],
      "metadata": {
        "colab": {
          "base_uri": "https://localhost:8080/"
        },
        "id": "RQSEBA1QeFB2",
        "outputId": "c5d6db7c-9219-4b8a-f795-034382e69022"
      },
      "execution_count": null,
      "outputs": [
        {
          "output_type": "execute_result",
          "data": {
            "text/plain": [
              "(array([0.60877118, 0.83136032, 0.99041885, 0.8907261 , 0.89413577,\n",
              "        0.4145095 , 0.69205493, 0.14452534, 0.99350094, 0.25355731,\n",
              "        0.28910833, 0.63673783, 0.10944939, 0.89331405, 0.71086234,\n",
              "        0.98874555, 0.71664038, 0.84622643, 0.51608352, 0.99742928,\n",
              "        0.10484045, 0.16338875, 0.61781534, 0.44713065, 0.8630475 ,\n",
              "        0.13997735, 0.58953793, 0.26829402, 0.36692321, 0.66801349]),\n",
              " 2.5)"
            ]
          },
          "metadata": {},
          "execution_count": 65
        }
      ]
    },
    {
      "cell_type": "code",
      "source": [
        "#5)\n",
        "a= np.random.rand(10,10), np.max, np.min\n",
        "a"
      ],
      "metadata": {
        "colab": {
          "base_uri": "https://localhost:8080/"
        },
        "id": "HRoWMQHreavm",
        "outputId": "05eb9a6f-1d21-4e3d-d0f1-b87af1939cca"
      },
      "execution_count": null,
      "outputs": [
        {
          "output_type": "execute_result",
          "data": {
            "text/plain": [
              "(array([[0.00945799, 0.0704341 , 0.53610139, 0.47463699, 0.97827482,\n",
              "         0.1246824 , 0.87064853, 0.76975386, 0.59471167, 0.60553306],\n",
              "        [0.86261903, 0.34291091, 0.87989389, 0.24334223, 0.06379005,\n",
              "         0.49944907, 0.98865387, 0.25956053, 0.97399041, 0.24920129],\n",
              "        [0.66575381, 0.51257036, 0.20997151, 0.64586147, 0.46074393,\n",
              "         0.68387081, 0.48212966, 0.42876647, 0.66467569, 0.14859788],\n",
              "        [0.48417341, 0.52516317, 0.24858779, 0.39786125, 0.29458018,\n",
              "         0.68228128, 0.09951512, 0.34495596, 0.73286761, 0.96387823],\n",
              "        [0.3165439 , 0.07899566, 0.21136861, 0.9460433 , 0.48095716,\n",
              "         0.73011677, 0.36133657, 0.01302792, 0.48333289, 0.61963099],\n",
              "        [0.14524245, 0.75323996, 0.51294971, 0.55461381, 0.53865866,\n",
              "         0.32017056, 0.48070086, 0.93191252, 0.31004489, 0.48878184],\n",
              "        [0.34450563, 0.14676716, 0.40229511, 0.4507051 , 0.12358988,\n",
              "         0.05982068, 0.3382459 , 0.2175599 , 0.6554136 , 0.93497732],\n",
              "        [0.04300122, 0.48070258, 0.63656675, 0.44153035, 0.21036001,\n",
              "         0.00169895, 0.66523406, 0.31992014, 0.82534633, 0.77209399],\n",
              "        [0.39827378, 0.44027349, 0.04312749, 0.02431535, 0.56463042,\n",
              "         0.01519336, 0.07622987, 0.13995408, 0.18475371, 0.50654034],\n",
              "        [0.06949189, 0.72222736, 0.45987223, 0.68910987, 0.25219462,\n",
              "         0.75616539, 0.69154182, 0.9748475 , 0.29060761, 0.1130794 ]]),\n",
              " <function max at 0x7a6a89c530f0>,\n",
              " <function min at 0x7a6a89c534f0>)"
            ]
          },
          "metadata": {},
          "execution_count": 71
        }
      ]
    },
    {
      "cell_type": "code",
      "source": [
        "#6)\n",
        "b=np.zeros(10)\n",
        "b[4]=1\n",
        "b"
      ],
      "metadata": {
        "colab": {
          "base_uri": "https://localhost:8080/"
        },
        "id": "mXklwN_CerGc",
        "outputId": "22ed4c85-deaa-451d-bef7-8a8847cecdf8"
      },
      "execution_count": null,
      "outputs": [
        {
          "output_type": "execute_result",
          "data": {
            "text/plain": [
              "array([0., 0., 0., 0., 1., 0., 0., 0., 0., 0.])"
            ]
          },
          "metadata": {},
          "execution_count": 81
        }
      ]
    },
    {
      "cell_type": "code",
      "source": [
        "#7)\n",
        "arr=[1,2,0,0,4,0]\n",
        "arr.reverse()\n",
        "print(arr)"
      ],
      "metadata": {
        "colab": {
          "base_uri": "https://localhost:8080/"
        },
        "id": "vuY4vg9HfSUK",
        "outputId": "8ac6c735-6082-4e60-9aac-f58f04c096f7"
      },
      "execution_count": null,
      "outputs": [
        {
          "output_type": "stream",
          "name": "stdout",
          "text": [
            "[0, 4, 0, 0, 2, 1]\n"
          ]
        }
      ]
    },
    {
      "cell_type": "code",
      "source": [
        "#8)\n",
        "import numpy as np\n",
        "\n",
        "x = np.ones((5, 5))\n",
        "print(\"1 on the border and 0 inside in the array\")\n",
        "x[1:-1, 1:-1] = 0\n",
        "\n",
        "print(x)"
      ],
      "metadata": {
        "colab": {
          "base_uri": "https://localhost:8080/"
        },
        "id": "xxr2oFCNhP-l",
        "outputId": "57bace07-d5e5-4558-87fc-0104569d9fd7"
      },
      "execution_count": null,
      "outputs": [
        {
          "output_type": "stream",
          "name": "stdout",
          "text": [
            "1 on the border and 0 inside in the array\n",
            "[[1. 1. 1. 1. 1.]\n",
            " [1. 0. 0. 0. 1.]\n",
            " [1. 0. 0. 0. 1.]\n",
            " [1. 0. 0. 0. 1.]\n",
            " [1. 1. 1. 1. 1.]]\n"
          ]
        }
      ]
    },
    {
      "cell_type": "code",
      "source": [
        "#9)\n",
        "import numpy as np\n",
        "x = np.ones((3, 3))\n",
        "\n",
        "x = np.zeros((8, 8), dtype=int)\n",
        "x[1::2, ::2] = 1\n",
        "x[::2, 1::2] = 1\n",
        "\n",
        "print(x)"
      ],
      "metadata": {
        "colab": {
          "base_uri": "https://localhost:8080/"
        },
        "id": "ftaOjdBlh92M",
        "outputId": "ab03d746-6718-42cd-e9a0-7a7ee845ed2d"
      },
      "execution_count": null,
      "outputs": [
        {
          "output_type": "stream",
          "name": "stdout",
          "text": [
            "[[0 1 0 1 0 1 0]\n",
            " [1 0 1 0 1 0 1]\n",
            " [0 1 0 1 0 1 0]\n",
            " [1 0 1 0 1 0 1]\n",
            " [0 1 0 1 0 1 0]\n",
            " [1 0 1 0 1 0 1]\n",
            " [0 1 0 1 0 1 0]\n",
            " [1 0 1 0 1 0 1]]\n"
          ]
        }
      ]
    },
    {
      "cell_type": "code",
      "source": [
        "#problem-3\n",
        "#1)\n",
        "x= np.array([[1,2],[3,5]])\n",
        "y=np.array([[5,6],[7,8]])\n",
        "sum= np.add(x,y)\n",
        "sum"
      ],
      "metadata": {
        "colab": {
          "base_uri": "https://localhost:8080/"
        },
        "id": "aubLkbBBivc-",
        "outputId": "fb00e4d9-9fa5-471e-eb21-d51fa447006b"
      },
      "execution_count": null,
      "outputs": [
        {
          "output_type": "execute_result",
          "data": {
            "text/plain": [
              "array([[ 6,  8],\n",
              "       [10, 13]])"
            ]
          },
          "metadata": {},
          "execution_count": 95
        }
      ]
    },
    {
      "cell_type": "code",
      "source": [
        "#2)\n",
        "x= np.array([[1,2],[3,5]])\n",
        "y=np.array([[5,6],[7,8]])\n",
        "diff= np.subtract(x,y)\n",
        "diff"
      ],
      "metadata": {
        "colab": {
          "base_uri": "https://localhost:8080/"
        },
        "id": "GbszSaqPk9J0",
        "outputId": "34f21820-c944-45fe-cda5-6f17212ccb69"
      },
      "execution_count": null,
      "outputs": [
        {
          "output_type": "execute_result",
          "data": {
            "text/plain": [
              "array([[-4, -4],\n",
              "       [-4, -3]])"
            ]
          },
          "metadata": {},
          "execution_count": 97
        }
      ]
    },
    {
      "cell_type": "code",
      "source": [
        "#3)\n",
        "y=np.array([[5,6],[7,8]])\n",
        "product= np.multiply(2,y)\n",
        "product"
      ],
      "metadata": {
        "colab": {
          "base_uri": "https://localhost:8080/"
        },
        "id": "gUNG22QXlEsE",
        "outputId": "4fcd021a-8278-4f7a-b138-6d02219b9b48"
      },
      "execution_count": null,
      "outputs": [
        {
          "output_type": "execute_result",
          "data": {
            "text/plain": [
              "array([[10, 12],\n",
              "       [14, 16]])"
            ]
          },
          "metadata": {},
          "execution_count": 99
        }
      ]
    },
    {
      "cell_type": "code",
      "source": [
        "#4)\n",
        "y=np.array([[5,6],[7,8]])\n",
        "square= np.square(y)\n",
        "square"
      ],
      "metadata": {
        "colab": {
          "base_uri": "https://localhost:8080/"
        },
        "id": "QIL0d6xelRDx",
        "outputId": "3b5d4a05-48b0-4cfc-cec4-4390b17dea9c"
      },
      "execution_count": null,
      "outputs": [
        {
          "output_type": "execute_result",
          "data": {
            "text/plain": [
              "array([[25, 36],\n",
              "       [49, 64]])"
            ]
          },
          "metadata": {},
          "execution_count": 101
        }
      ]
    },
    {
      "cell_type": "code",
      "source": [
        "#5)\n",
        "x = np.array([[1,2],[3,5]])\n",
        "y = np.array([[5,6],[7,8]])\n",
        "v = np.array([9,10])\n",
        "w = np.array([11,12])\n",
        "\n",
        "a=np.dot(v,w)\n",
        "b= np.dot(x,v)\n",
        "c=np.dot(x,y)\n",
        "print(a)\n",
        "print(b)\n",
        "print(c)"
      ],
      "metadata": {
        "colab": {
          "base_uri": "https://localhost:8080/"
        },
        "id": "vOMaKedpliif",
        "outputId": "3157be41-d520-4e44-ddbc-5d72066b450f"
      },
      "execution_count": null,
      "outputs": [
        {
          "output_type": "stream",
          "name": "stdout",
          "text": [
            "219\n",
            "[29 77]\n",
            "[[19 22]\n",
            " [50 58]]\n"
          ]
        }
      ]
    },
    {
      "cell_type": "code",
      "source": [
        "#6)\n",
        "x = np.array([[1,2],[3,5]])\n",
        "y = np.array([[5,6],[7,8]])\n",
        "v = np.array([9,10])\n",
        "w = np.array([11,12])\n",
        "\n",
        "e=np.concatenate((x,y),axis=1)\n",
        "print(e)\n",
        "\n",
        "f=np.concatenate((v,w),axis=0)\n",
        "print(f)"
      ],
      "metadata": {
        "colab": {
          "base_uri": "https://localhost:8080/"
        },
        "id": "rRjzPQ7tmDJI",
        "outputId": "a697e156-7e27-4ca2-f74d-fc0ac9b925f2"
      },
      "execution_count": null,
      "outputs": [
        {
          "output_type": "stream",
          "name": "stdout",
          "text": [
            "[[1 2 5 6]\n",
            " [3 5 7 8]]\n",
            "[ 9 10 11 12]\n"
          ]
        }
      ]
    },
    {
      "cell_type": "code",
      "source": [
        "#7)\n",
        "x = np.array([[1,2],[3,5]])\n",
        "v = np.array([9,10])\n",
        "e=np.concatenate((x,v))\n",
        "print(e)\n",
        "#value error: all the input arrays must have same number of dimensions,\n",
        "# but the array at index 0 has 2 dimension(s)\n",
        "# and the array at index 1 has 1 dimension(s)"
      ],
      "metadata": {
        "colab": {
          "base_uri": "https://localhost:8080/",
          "height": 211
        },
        "id": "RqtrpzdDm4ny",
        "outputId": "895f35b4-d796-40ae-d19d-62559b3c2f29"
      },
      "execution_count": null,
      "outputs": [
        {
          "output_type": "error",
          "ename": "ValueError",
          "evalue": "all the input arrays must have same number of dimensions, but the array at index 0 has 2 dimension(s) and the array at index 1 has 1 dimension(s)",
          "traceback": [
            "\u001b[0;31m---------------------------------------------------------------------------\u001b[0m",
            "\u001b[0;31mValueError\u001b[0m                                Traceback (most recent call last)",
            "\u001b[0;32m<ipython-input-114-9992cbbc3935>\u001b[0m in \u001b[0;36m<cell line: 4>\u001b[0;34m()\u001b[0m\n\u001b[1;32m      2\u001b[0m \u001b[0mx\u001b[0m \u001b[0;34m=\u001b[0m \u001b[0mnp\u001b[0m\u001b[0;34m.\u001b[0m\u001b[0marray\u001b[0m\u001b[0;34m(\u001b[0m\u001b[0;34m[\u001b[0m\u001b[0;34m[\u001b[0m\u001b[0;36m1\u001b[0m\u001b[0;34m,\u001b[0m\u001b[0;36m2\u001b[0m\u001b[0;34m]\u001b[0m\u001b[0;34m,\u001b[0m\u001b[0;34m[\u001b[0m\u001b[0;36m3\u001b[0m\u001b[0;34m,\u001b[0m\u001b[0;36m5\u001b[0m\u001b[0;34m]\u001b[0m\u001b[0;34m]\u001b[0m\u001b[0;34m)\u001b[0m\u001b[0;34m\u001b[0m\u001b[0;34m\u001b[0m\u001b[0m\n\u001b[1;32m      3\u001b[0m \u001b[0mv\u001b[0m \u001b[0;34m=\u001b[0m \u001b[0mnp\u001b[0m\u001b[0;34m.\u001b[0m\u001b[0marray\u001b[0m\u001b[0;34m(\u001b[0m\u001b[0;34m[\u001b[0m\u001b[0;36m9\u001b[0m\u001b[0;34m,\u001b[0m\u001b[0;36m10\u001b[0m\u001b[0;34m]\u001b[0m\u001b[0;34m)\u001b[0m\u001b[0;34m\u001b[0m\u001b[0;34m\u001b[0m\u001b[0m\n\u001b[0;32m----> 4\u001b[0;31m \u001b[0me\u001b[0m\u001b[0;34m=\u001b[0m\u001b[0mnp\u001b[0m\u001b[0;34m.\u001b[0m\u001b[0mconcatenate\u001b[0m\u001b[0;34m(\u001b[0m\u001b[0;34m(\u001b[0m\u001b[0mx\u001b[0m\u001b[0;34m,\u001b[0m\u001b[0mv\u001b[0m\u001b[0;34m)\u001b[0m\u001b[0;34m)\u001b[0m\u001b[0;34m\u001b[0m\u001b[0;34m\u001b[0m\u001b[0m\n\u001b[0m\u001b[1;32m      5\u001b[0m \u001b[0mprint\u001b[0m\u001b[0;34m(\u001b[0m\u001b[0me\u001b[0m\u001b[0;34m)\u001b[0m\u001b[0;34m\u001b[0m\u001b[0;34m\u001b[0m\u001b[0m\n",
            "\u001b[0;31mValueError\u001b[0m: all the input arrays must have same number of dimensions, but the array at index 0 has 2 dimension(s) and the array at index 1 has 1 dimension(s)"
          ]
        }
      ]
    },
    {
      "cell_type": "code",
      "source": [
        "#problem-4\n",
        "#1.1)\n",
        "import numpy as np\n",
        "\n",
        "A = np.array([[3,4],[7,8]])\n",
        "a=np.linalg.inv(A)\n",
        "\n",
        "product=np.dot(A,a)\n",
        "print(product)"
      ],
      "metadata": {
        "colab": {
          "base_uri": "https://localhost:8080/"
        },
        "id": "3JgxH8Q2nRTh",
        "outputId": "0a23270a-8462-4c7b-d8ec-abc3e0ffc797"
      },
      "execution_count": null,
      "outputs": [
        {
          "output_type": "stream",
          "name": "stdout",
          "text": [
            "[[1.00000000e+00 0.00000000e+00]\n",
            " [1.77635684e-15 1.00000000e+00]]\n"
          ]
        }
      ]
    },
    {
      "cell_type": "code",
      "source": [
        "#1.2)\n",
        "\n",
        "import numpy as np\n",
        "A = np.array([[3,4],[7,8]])\n",
        "B = np.array([[5,3],[2,1]])\n",
        "\n",
        "AB = np.dot(A,B)\n",
        "BA = np.dot(B,A)\n",
        "\n",
        "print (\"AB:\")\n",
        "print(AB)\n",
        "\n",
        "print(\"\\nBA:\")\n",
        "print(BA)\n",
        "\n",
        "print (\"AB != BA\")\n"
      ],
      "metadata": {
        "id": "ssCTMylpn1a0",
        "colab": {
          "base_uri": "https://localhost:8080/"
        },
        "outputId": "502d9725-9734-4ddc-8a62-4638ae7b851e"
      },
      "execution_count": null,
      "outputs": [
        {
          "output_type": "stream",
          "name": "stdout",
          "text": [
            "AB:\n",
            "[[23 13]\n",
            " [51 29]]\n",
            "\n",
            "BA:\n",
            "[[36 44]\n",
            " [13 16]]\n",
            "AB != BA\n"
          ]
        }
      ]
    },
    {
      "cell_type": "code",
      "source": [
        "#1.3)\n",
        "import numpy as np\n",
        "\n",
        "A = np.array([[3,4],[7,8]])\n",
        "B = np.array([[5,3],[2,1]])\n",
        "\n",
        "ABt = np.transpose(np.dot(A,B))\n",
        "BtAt = np.dot(np.transpose(B),np.transpose(A))\n",
        "\n",
        "print(np.array_equal(ABt,BtAt))\n",
        "print(\"\\n(AB)^T: \")\n",
        "print(ABt)\n",
        "print(\"\\nB^t*A^t:\")\n",
        "print(BtAt)\n"
      ],
      "metadata": {
        "colab": {
          "base_uri": "https://localhost:8080/"
        },
        "id": "xnNlJzQFr9c_",
        "outputId": "7d654206-2c16-4588-d3c6-c5f4a5b3a919"
      },
      "execution_count": null,
      "outputs": [
        {
          "output_type": "stream",
          "name": "stdout",
          "text": [
            "True\n",
            "\n",
            "(AB)^T: \n",
            "[[23 51]\n",
            " [13 29]]\n",
            "\n",
            "B^t*A^t:\n",
            "[[23 51]\n",
            " [13 29]]\n"
          ]
        }
      ]
    },
    {
      "cell_type": "code",
      "source": [
        "#2)\n",
        "import numpy as np\n",
        "\n",
        "A = np.array([[2, -3, 1],\n",
        "              [1, -1, 2],\n",
        "              [3, 1, -1]])\n",
        "\n",
        "B = np.array([-1, -3, 9])\n",
        "\n",
        "A_inverse = np.linalg.inv(A)\n",
        "X = np.dot(A_inverse, B)\n",
        "\n",
        "print(\"Solution for X, Y, Z:\")\n",
        "print(X)\n"
      ],
      "metadata": {
        "colab": {
          "base_uri": "https://localhost:8080/"
        },
        "id": "cb4IP-e9ubtN",
        "outputId": "75a19a5b-8134-47cc-d5f7-19c81e90d678"
      },
      "execution_count": null,
      "outputs": [
        {
          "output_type": "stream",
          "name": "stdout",
          "text": [
            "Solution for X, Y, Z:\n",
            "[ 2.  1. -2.]\n"
          ]
        }
      ]
    },
    {
      "cell_type": "code",
      "source": [
        "#3)\n",
        "import numpy as np\n",
        "\n",
        "A = np.array([[2, -3, 1],\n",
        "              [1, -1, 2],\n",
        "              [3, 1, -1]])\n",
        "\n",
        "B = np.array([-1, -3, 9])\n",
        "\n",
        "A_inverse = np.linalg.inv(A)\n",
        "X = np.dot(A_inverse, B)\n",
        "\n",
        "print(\"Solution for X, Y, Z using np.linalg.inv:\")\n",
        "print(X)\n",
        "\n",
        "# Explore more functions in np.linalg\n",
        "print(\"\\nAdditional functionalities in np.linalg:\")\n",
        "print(dir(np.linalg))\n"
      ],
      "metadata": {
        "colab": {
          "base_uri": "https://localhost:8080/"
        },
        "id": "pIAAyYtwvQ3j",
        "outputId": "0dbfc270-97f7-41c5-93ca-2b8a1366bff9"
      },
      "execution_count": null,
      "outputs": [
        {
          "output_type": "stream",
          "name": "stdout",
          "text": [
            "Solution for X, Y, Z using np.linalg.inv:\n",
            "[ 2.  1. -2.]\n",
            "\n",
            "Additional functionalities in np.linalg:\n",
            "['LinAlgError', '__all__', '__builtins__', '__cached__', '__doc__', '__file__', '__loader__', '__name__', '__package__', '__path__', '__spec__', '_umath_linalg', 'cholesky', 'cond', 'det', 'eig', 'eigh', 'eigvals', 'eigvalsh', 'inv', 'linalg', 'lstsq', 'matrix_power', 'matrix_rank', 'multi_dot', 'norm', 'pinv', 'qr', 'slogdet', 'solve', 'svd', 'tensorinv', 'tensorsolve', 'test']\n"
          ]
        }
      ]
    },
    {
      "cell_type": "code",
      "source": [
        "# 4.2) Experiment: How fast is numpy\n",
        "#1)a)\n",
        "import time\n",
        "\n",
        "list1 = [i for i in range(1_000_000)]\n",
        "list2 = [i for i in range(1_000_000)]\n",
        "\n",
        "start_time = time.time()\n",
        "\n",
        "result = [x + y for x, y in zip(list1, list2)]\n",
        "\n",
        "end_time = time.time()\n",
        "\n",
        "time_taken = end_time - start_time\n",
        "print(f\"Time taken for element-wise addition: {time_taken:.5f} seconds\")\n",
        "\n"
      ],
      "metadata": {
        "colab": {
          "base_uri": "https://localhost:8080/"
        },
        "id": "AQMs-OD-1hw5",
        "outputId": "ef34cba0-4615-4d43-d158-516316fff8b7"
      },
      "execution_count": null,
      "outputs": [
        {
          "output_type": "stream",
          "name": "stdout",
          "text": [
            "Time taken for element-wise addition: 0.09811 seconds\n"
          ]
        }
      ]
    },
    {
      "cell_type": "code",
      "source": [
        "#1)b)\n",
        "import numpy as np\n",
        "import time\n",
        "\n",
        "# Create two large numpy arrays of size 1,000,000\n",
        "array1 = np.arange(1_000_000)\n",
        "array2 = np.arange(1_000_000)\n",
        "\n",
        "# Start the timer\n",
        "start_time = time.time()\n",
        "\n",
        "# Perform element-wise addition\n",
        "result = array1 + array2\n",
        "\n",
        "# End the timer\n",
        "end_time = time.time()\n",
        "\n",
        "# Measure and print the time taken\n",
        "time_taken = end_time - start_time\n",
        "print(f\"Time taken for element-wise addition with numpy: {time_taken:.5f} seconds\")\n"
      ],
      "metadata": {
        "colab": {
          "base_uri": "https://localhost:8080/"
        },
        "id": "BcbUeYxy5onl",
        "outputId": "c2264f01-7a00-4e3c-e4ca-54aec0184ccb"
      },
      "execution_count": null,
      "outputs": [
        {
          "output_type": "stream",
          "name": "stdout",
          "text": [
            "Time taken for element-wise addition with numpy: 0.00859 seconds\n"
          ]
        }
      ]
    },
    {
      "cell_type": "code",
      "source": [
        "#2)a)\n",
        "import time\n",
        "import random\n",
        "\n",
        "def multiply_lists(list1, list2):\n",
        "    result = []\n",
        "    for i in range(len(list1)):\n",
        "        result.append(list1[i] * list2[i])\n",
        "    return result\n",
        "\n",
        "# Generate two lists of size 1,000,000 with random integers\n",
        "list1 = [random.randint(1, 100) for _ in range(1000000)]\n",
        "list2 = [random.randint(1, 100) for _ in range(1000000)]\n",
        "\n",
        "# Measure the time taken\n",
        "start_time = time.time()\n",
        "result = multiply_lists(list1, list2)\n",
        "end_time = time.time()\n",
        "\n",
        "print(\"Time taken:\", end_time - start_time, \"seconds\")"
      ],
      "metadata": {
        "colab": {
          "base_uri": "https://localhost:8080/"
        },
        "id": "y6D1Xs058QmT",
        "outputId": "49d32db1-33ec-49d6-b344-e3580ea1986d"
      },
      "execution_count": null,
      "outputs": [
        {
          "output_type": "stream",
          "name": "stdout",
          "text": [
            "Time taken: 0.17275166511535645 seconds\n"
          ]
        }
      ]
    },
    {
      "cell_type": "code",
      "source": [
        "#2)b)\n",
        "import numpy as np\n",
        "import time\n",
        "\n",
        "def multiply_arrays(array1, array2):\n",
        "    result = array1 * array2\n",
        "    return result\n",
        "\n",
        "# Generate two numpy arrays of size 1,000,000 with random integers\n",
        "array1 = np.random.randint(1, 100, 1000000)\n",
        "array2 = np.random.randint(1, 100, 1000000)\n",
        "\n",
        "# Measure the time taken\n",
        "start_time = time.time()\n",
        "result = multiply_arrays(array1, array2)\n",
        "end_time = time.time()\n",
        "\n",
        "print(\"Time taken with NumPy:\", end_time - start_time, \"seconds\")"
      ],
      "metadata": {
        "colab": {
          "base_uri": "https://localhost:8080/"
        },
        "id": "_qC2LB1e_9Sa",
        "outputId": "f50eca5c-f663-4f73-f4ef-a0000f96df63"
      },
      "execution_count": null,
      "outputs": [
        {
          "output_type": "stream",
          "name": "stdout",
          "text": [
            "Time taken with NumPy: 0.00808262825012207 seconds\n"
          ]
        }
      ]
    },
    {
      "cell_type": "code",
      "source": [
        "#3)a)\n",
        "import time\n",
        "import random\n",
        "\n",
        "def dot_product(list1, list2):\n",
        "    result = 0\n",
        "    for i in range(len(list1)):\n",
        "        result += list1[i] * list2[i]\n",
        "    return result\n",
        "\n",
        "# Generate two lists of size 1,000,000 with random integers\n",
        "list1 = [random.randint(1, 100) for _ in range(1000000)]\n",
        "list2 = [random.randint(1, 100) for _ in range(1000000)]\n",
        "\n",
        "# Measure the time taken\n",
        "start_time = time.time()\n",
        "result = dot_product(list1, list2)\n",
        "end_time = time.time()\n",
        "\n",
        "print(\"Time taken:\", end_time - start_time, \"seconds\")"
      ],
      "metadata": {
        "colab": {
          "base_uri": "https://localhost:8080/"
        },
        "id": "q6kENSPPAGJk",
        "outputId": "db2f1daa-559f-442c-8255-cb32b95862ad"
      },
      "execution_count": null,
      "outputs": [
        {
          "output_type": "stream",
          "name": "stdout",
          "text": [
            "Time taken: 0.13132047653198242 seconds\n"
          ]
        }
      ]
    },
    {
      "cell_type": "code",
      "source": [
        "#3)b)\n",
        "import numpy as np\n",
        "import time\n",
        "\n",
        "def dot_product_numpy(array1, array2):\n",
        "    result = np.dot(array1, array2)\n",
        "    return result\n",
        "\n",
        "# Generate two numpy arrays of size 1,000,000 with random integers\n",
        "array1 = np.random.randint(1, 100, 1000000)\n",
        "array2 = np.random.randint(1, 100, 1000000)\n",
        "\n",
        "# Measure the time taken\n",
        "start_time = time.time()\n",
        "result = dot_product_numpy(array1, array2)\n",
        "end_time = time.time()\n",
        "\n",
        "print(\"Time taken with NumPy:\", end_time - start_time, \"seconds\")"
      ],
      "metadata": {
        "colab": {
          "base_uri": "https://localhost:8080/"
        },
        "id": "N43PfXkZAPiK",
        "outputId": "d142a253-175e-48e1-aa57-eed41c25a295"
      },
      "execution_count": null,
      "outputs": [
        {
          "output_type": "stream",
          "name": "stdout",
          "text": [
            "Time taken with NumPy: 0.0022706985473632812 seconds\n"
          ]
        }
      ]
    },
    {
      "cell_type": "code",
      "source": [
        "#4)a)\n",
        "import numpy as np\n",
        "import time\n",
        "\n",
        "# Generate two random NumPy arrays of size 1000x1000\n",
        "matrix1 = np.random.randint(1, 10, (1000, 1000))\n",
        "matrix2 = np.random.randint(1, 10, (1000, 1000))\n",
        "\n",
        "# Measure the time taken\n",
        "start_time = time.time()\n",
        "result = np.dot(matrix1, matrix2)\n",
        "end_time = time.time()\n",
        "\n",
        "print(\"Time taken with NumPy:\", end_time - start_time, \"seconds\")"
      ],
      "metadata": {
        "colab": {
          "base_uri": "https://localhost:8080/"
        },
        "id": "xNu0KdM2AZt7",
        "outputId": "8ac07ef0-ca3c-4623-87ae-158f6a45fcac"
      },
      "execution_count": null,
      "outputs": [
        {
          "output_type": "stream",
          "name": "stdout",
          "text": [
            "Time taken with NumPy: 1.4712812900543213 seconds\n"
          ]
        }
      ]
    },
    {
      "cell_type": "code",
      "source": [
        "#4)b)\n",
        "import numpy as np\n",
        "import time\n",
        "\n",
        "# Generate two random NumPy arrays of size 1000x1000\n",
        "matrix1 = np.random.randint(1, 10, (1000, 1000))\n",
        "matrix2 = np.random.randint(1, 10, (1000, 1000))\n",
        "\n",
        "# Measure the time taken\n",
        "start_time = time.time()\n",
        "result = np.dot(matrix1, matrix2)\n",
        "end_time = time.time()\n",
        "\n",
        "print(\"Time taken with NumPy:\", end_time - start_time, \"seconds\")"
      ],
      "metadata": {
        "colab": {
          "base_uri": "https://localhost:8080/"
        },
        "id": "UoPYRMtRAk5m",
        "outputId": "da212a3d-7cb3-4952-f0c2-1868154167ec"
      },
      "execution_count": null,
      "outputs": [
        {
          "output_type": "stream",
          "name": "stdout",
          "text": [
            "Time taken with NumPy: 2.667602777481079 seconds\n"
          ]
        }
      ]
    },
    {
      "cell_type": "code",
      "source": [],
      "metadata": {
        "id": "N-UJQViOBEul"
      },
      "execution_count": null,
      "outputs": []
    }
  ]
}